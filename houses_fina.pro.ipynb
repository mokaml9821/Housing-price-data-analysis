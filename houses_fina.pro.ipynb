{
 "cells": [
  {
   "cell_type": "code",
   "execution_count": 2,
   "metadata": {},
   "outputs": [],
   "source": [
    "import numpy as np\n",
    "import pandas as pd\n",
    "import seaborn as sns\n",
    "import matplotlib as plt\n",
    "import plotly.express as px\n",
    "import millify as mil\n",
    "# import warnings\n",
    "# warnings.filters=[\"ignore\"]"
   ]
  },
  {
   "cell_type": "code",
   "execution_count": 3,
   "metadata": {},
   "outputs": [],
   "source": [
    "data = pd.read_parquet(\"DKHousingPrices.parquet\")"
   ]
  },
  {
   "cell_type": "code",
   "execution_count": 4,
   "metadata": {},
   "outputs": [
    {
     "data": {
      "text/html": [
       "<div>\n",
       "<style scoped>\n",
       "    .dataframe tbody tr th:only-of-type {\n",
       "        vertical-align: middle;\n",
       "    }\n",
       "\n",
       "    .dataframe tbody tr th {\n",
       "        vertical-align: top;\n",
       "    }\n",
       "\n",
       "    .dataframe thead th {\n",
       "        text-align: right;\n",
       "    }\n",
       "</style>\n",
       "<table border=\"1\" class=\"dataframe\">\n",
       "  <thead>\n",
       "    <tr style=\"text-align: right;\">\n",
       "      <th></th>\n",
       "      <th>date</th>\n",
       "      <th>quarter</th>\n",
       "      <th>house_id</th>\n",
       "      <th>house_type</th>\n",
       "      <th>sales_type</th>\n",
       "      <th>year_build</th>\n",
       "      <th>purchase_price</th>\n",
       "      <th>%_change_between_offer_and_purchase</th>\n",
       "      <th>no_rooms</th>\n",
       "      <th>sqm</th>\n",
       "      <th>sqm_price</th>\n",
       "      <th>address</th>\n",
       "      <th>zip_code</th>\n",
       "      <th>city</th>\n",
       "      <th>area</th>\n",
       "      <th>region</th>\n",
       "      <th>nom_interest_rate%</th>\n",
       "      <th>dk_ann_infl_rate%</th>\n",
       "      <th>yield_on_mortgage_credit_bonds%</th>\n",
       "    </tr>\n",
       "  </thead>\n",
       "  <tbody>\n",
       "    <tr>\n",
       "      <th>0</th>\n",
       "      <td>2024-10-26</td>\n",
       "      <td>2024Q4</td>\n",
       "      <td>0</td>\n",
       "      <td>Villa</td>\n",
       "      <td>regular_sale</td>\n",
       "      <td>1974</td>\n",
       "      <td>4350000</td>\n",
       "      <td>0.0</td>\n",
       "      <td>5</td>\n",
       "      <td>215.0</td>\n",
       "      <td>20232.558594</td>\n",
       "      <td>Kildevangen 5</td>\n",
       "      <td>8382</td>\n",
       "      <td>Hinnerup</td>\n",
       "      <td>East &amp; mid jutland</td>\n",
       "      <td>Jutland</td>\n",
       "      <td>3.1</td>\n",
       "      <td>NaN</td>\n",
       "      <td>NaN</td>\n",
       "    </tr>\n",
       "    <tr>\n",
       "      <th>1</th>\n",
       "      <td>2024-10-26</td>\n",
       "      <td>2024Q4</td>\n",
       "      <td>2</td>\n",
       "      <td>Summerhouse</td>\n",
       "      <td>regular_sale</td>\n",
       "      <td>1956</td>\n",
       "      <td>450000</td>\n",
       "      <td>0.0</td>\n",
       "      <td>3</td>\n",
       "      <td>36.0</td>\n",
       "      <td>12500.000000</td>\n",
       "      <td>Lykkestien 2</td>\n",
       "      <td>4400</td>\n",
       "      <td>Kalundborg</td>\n",
       "      <td>Other islands</td>\n",
       "      <td>Zealand</td>\n",
       "      <td>3.1</td>\n",
       "      <td>NaN</td>\n",
       "      <td>NaN</td>\n",
       "    </tr>\n",
       "    <tr>\n",
       "      <th>2</th>\n",
       "      <td>2024-10-26</td>\n",
       "      <td>2024Q4</td>\n",
       "      <td>1</td>\n",
       "      <td>Farm</td>\n",
       "      <td>regular_sale</td>\n",
       "      <td>1955</td>\n",
       "      <td>6600000</td>\n",
       "      <td>0.0</td>\n",
       "      <td>3</td>\n",
       "      <td>180.0</td>\n",
       "      <td>36666.667969</td>\n",
       "      <td>Sæderupvej 58</td>\n",
       "      <td>9260</td>\n",
       "      <td>Gistrup</td>\n",
       "      <td>North jutland</td>\n",
       "      <td>Jutland</td>\n",
       "      <td>3.1</td>\n",
       "      <td>NaN</td>\n",
       "      <td>NaN</td>\n",
       "    </tr>\n",
       "    <tr>\n",
       "      <th>3</th>\n",
       "      <td>2024-10-25</td>\n",
       "      <td>2024Q4</td>\n",
       "      <td>3</td>\n",
       "      <td>Apartment</td>\n",
       "      <td>family_sale</td>\n",
       "      <td>1945</td>\n",
       "      <td>1495000</td>\n",
       "      <td>0.0</td>\n",
       "      <td>2</td>\n",
       "      <td>64.0</td>\n",
       "      <td>23359.375000</td>\n",
       "      <td>Tage-Hansens Gade 5, 1. tv</td>\n",
       "      <td>8000</td>\n",
       "      <td>Aarhus C</td>\n",
       "      <td>East &amp; mid jutland</td>\n",
       "      <td>Jutland</td>\n",
       "      <td>3.1</td>\n",
       "      <td>NaN</td>\n",
       "      <td>NaN</td>\n",
       "    </tr>\n",
       "    <tr>\n",
       "      <th>4</th>\n",
       "      <td>2024-10-25</td>\n",
       "      <td>2024Q4</td>\n",
       "      <td>4</td>\n",
       "      <td>Villa</td>\n",
       "      <td>regular_sale</td>\n",
       "      <td>1967</td>\n",
       "      <td>3375000</td>\n",
       "      <td>0.0</td>\n",
       "      <td>5</td>\n",
       "      <td>176.0</td>\n",
       "      <td>19176.136719</td>\n",
       "      <td>Chr.Winthers Vej 5</td>\n",
       "      <td>8600</td>\n",
       "      <td>Silkeborg</td>\n",
       "      <td>East &amp; mid jutland</td>\n",
       "      <td>Jutland</td>\n",
       "      <td>3.1</td>\n",
       "      <td>NaN</td>\n",
       "      <td>NaN</td>\n",
       "    </tr>\n",
       "  </tbody>\n",
       "</table>\n",
       "</div>"
      ],
      "text/plain": [
       "        date quarter  house_id   house_type    sales_type  year_build  \\\n",
       "0 2024-10-26  2024Q4         0        Villa  regular_sale        1974   \n",
       "1 2024-10-26  2024Q4         2  Summerhouse  regular_sale        1956   \n",
       "2 2024-10-26  2024Q4         1         Farm  regular_sale        1955   \n",
       "3 2024-10-25  2024Q4         3    Apartment   family_sale        1945   \n",
       "4 2024-10-25  2024Q4         4        Villa  regular_sale        1967   \n",
       "\n",
       "   purchase_price  %_change_between_offer_and_purchase  no_rooms    sqm  \\\n",
       "0         4350000                                  0.0         5  215.0   \n",
       "1          450000                                  0.0         3   36.0   \n",
       "2         6600000                                  0.0         3  180.0   \n",
       "3         1495000                                  0.0         2   64.0   \n",
       "4         3375000                                  0.0         5  176.0   \n",
       "\n",
       "      sqm_price                     address  zip_code        city  \\\n",
       "0  20232.558594               Kildevangen 5      8382    Hinnerup   \n",
       "1  12500.000000                Lykkestien 2      4400  Kalundborg   \n",
       "2  36666.667969               Sæderupvej 58      9260     Gistrup   \n",
       "3  23359.375000  Tage-Hansens Gade 5, 1. tv      8000    Aarhus C   \n",
       "4  19176.136719          Chr.Winthers Vej 5      8600   Silkeborg   \n",
       "\n",
       "                 area   region  nom_interest_rate%  dk_ann_infl_rate%  \\\n",
       "0  East & mid jutland  Jutland                 3.1                NaN   \n",
       "1       Other islands  Zealand                 3.1                NaN   \n",
       "2       North jutland  Jutland                 3.1                NaN   \n",
       "3  East & mid jutland  Jutland                 3.1                NaN   \n",
       "4  East & mid jutland  Jutland                 3.1                NaN   \n",
       "\n",
       "   yield_on_mortgage_credit_bonds%  \n",
       "0                              NaN  \n",
       "1                              NaN  \n",
       "2                              NaN  \n",
       "3                              NaN  \n",
       "4                              NaN  "
      ]
     },
     "execution_count": 4,
     "metadata": {},
     "output_type": "execute_result"
    }
   ],
   "source": [
    "data.head(5)"
   ]
  },
  {
   "cell_type": "code",
   "execution_count": 5,
   "metadata": {},
   "outputs": [
    {
     "data": {
      "text/plain": [
       "0"
      ]
     },
     "execution_count": 5,
     "metadata": {},
     "output_type": "execute_result"
    }
   ],
   "source": [
    "data.duplicated().sum()"
   ]
  },
  {
   "cell_type": "code",
   "execution_count": 6,
   "metadata": {},
   "outputs": [
    {
     "name": "stdout",
     "output_type": "stream",
     "text": [
      "<class 'pandas.core.frame.DataFrame'>\n",
      "RangeIndex: 1507908 entries, 0 to 1507907\n",
      "Data columns (total 19 columns):\n",
      " #   Column                               Non-Null Count    Dtype         \n",
      "---  ------                               --------------    -----         \n",
      " 0   date                                 1507908 non-null  datetime64[ns]\n",
      " 1   quarter                              1507908 non-null  period[Q-DEC] \n",
      " 2   house_id                             1507908 non-null  int64         \n",
      " 3   house_type                           1507908 non-null  category      \n",
      " 4   sales_type                           1507908 non-null  category      \n",
      " 5   year_build                           1507908 non-null  int16         \n",
      " 6   purchase_price                       1507908 non-null  int32         \n",
      " 7   %_change_between_offer_and_purchase  1507908 non-null  float32       \n",
      " 8   no_rooms                             1507908 non-null  int8          \n",
      " 9   sqm                                  1507906 non-null  float32       \n",
      " 10  sqm_price                            1507906 non-null  float32       \n",
      " 11  address                              1507908 non-null  object        \n",
      " 12  zip_code                             1507908 non-null  int16         \n",
      " 13  city                                 1507908 non-null  object        \n",
      " 14  area                                 1507908 non-null  category      \n",
      " 15  region                               1507908 non-null  category      \n",
      " 16  nom_interest_rate%                   1507908 non-null  float32       \n",
      " 17  dk_ann_infl_rate%                    1506715 non-null  float32       \n",
      " 18  yield_on_mortgage_credit_bonds%      1506715 non-null  float32       \n",
      "dtypes: category(4), datetime64[ns](1), float32(6), int16(2), int32(1), int64(1), int8(1), object(2), period[Q-DEC](1)\n",
      "memory usage: 110.7+ MB\n"
     ]
    }
   ],
   "source": [
    "data.info()"
   ]
  },
  {
   "cell_type": "code",
   "execution_count": 7,
   "metadata": {},
   "outputs": [
    {
     "data": {
      "text/html": [
       "<div>\n",
       "<style scoped>\n",
       "    .dataframe tbody tr th:only-of-type {\n",
       "        vertical-align: middle;\n",
       "    }\n",
       "\n",
       "    .dataframe tbody tr th {\n",
       "        vertical-align: top;\n",
       "    }\n",
       "\n",
       "    .dataframe thead th {\n",
       "        text-align: right;\n",
       "    }\n",
       "</style>\n",
       "<table border=\"1\" class=\"dataframe\">\n",
       "  <thead>\n",
       "    <tr style=\"text-align: right;\">\n",
       "      <th></th>\n",
       "      <th>date</th>\n",
       "      <th>quarter</th>\n",
       "      <th>house_id</th>\n",
       "      <th>house_type</th>\n",
       "      <th>sales_type</th>\n",
       "      <th>year_build</th>\n",
       "      <th>purchase_price</th>\n",
       "      <th>%_change_between_offer_and_purchase</th>\n",
       "      <th>no_rooms</th>\n",
       "      <th>sqm</th>\n",
       "      <th>sqm_price</th>\n",
       "      <th>address</th>\n",
       "      <th>zip_code</th>\n",
       "      <th>city</th>\n",
       "      <th>area</th>\n",
       "      <th>region</th>\n",
       "      <th>nom_interest_rate%</th>\n",
       "      <th>dk_ann_infl_rate%</th>\n",
       "      <th>yield_on_mortgage_credit_bonds%</th>\n",
       "    </tr>\n",
       "  </thead>\n",
       "  <tbody>\n",
       "    <tr>\n",
       "      <th>212845</th>\n",
       "      <td>2022-02-23</td>\n",
       "      <td>2022Q1</td>\n",
       "      <td>201482</td>\n",
       "      <td>Villa</td>\n",
       "      <td>regular_sale</td>\n",
       "      <td>1920</td>\n",
       "      <td>1995000</td>\n",
       "      <td>0.0</td>\n",
       "      <td>2</td>\n",
       "      <td>NaN</td>\n",
       "      <td>NaN</td>\n",
       "      <td>Grundtvigsvej 17</td>\n",
       "      <td>4500</td>\n",
       "      <td>Nykøbing Sj</td>\n",
       "      <td>Other islands</td>\n",
       "      <td>Zealand</td>\n",
       "      <td>0.00</td>\n",
       "      <td>7.70</td>\n",
       "      <td>3.73</td>\n",
       "    </tr>\n",
       "    <tr>\n",
       "      <th>1086493</th>\n",
       "      <td>2006-08-21</td>\n",
       "      <td>2006Q3</td>\n",
       "      <td>1082137</td>\n",
       "      <td>Summerhouse</td>\n",
       "      <td>regular_sale</td>\n",
       "      <td>1971</td>\n",
       "      <td>995000</td>\n",
       "      <td>0.0</td>\n",
       "      <td>2</td>\n",
       "      <td>NaN</td>\n",
       "      <td>NaN</td>\n",
       "      <td>Fjordengen 12</td>\n",
       "      <td>4300</td>\n",
       "      <td>Holbæk</td>\n",
       "      <td>Other islands</td>\n",
       "      <td>Zealand</td>\n",
       "      <td>2.75</td>\n",
       "      <td>1.92</td>\n",
       "      <td>5.14</td>\n",
       "    </tr>\n",
       "  </tbody>\n",
       "</table>\n",
       "</div>"
      ],
      "text/plain": [
       "              date quarter  house_id   house_type    sales_type  year_build  \\\n",
       "212845  2022-02-23  2022Q1    201482        Villa  regular_sale        1920   \n",
       "1086493 2006-08-21  2006Q3   1082137  Summerhouse  regular_sale        1971   \n",
       "\n",
       "         purchase_price  %_change_between_offer_and_purchase  no_rooms  sqm  \\\n",
       "212845          1995000                                  0.0         2  NaN   \n",
       "1086493          995000                                  0.0         2  NaN   \n",
       "\n",
       "         sqm_price           address  zip_code         city           area  \\\n",
       "212845         NaN  Grundtvigsvej 17      4500  Nykøbing Sj  Other islands   \n",
       "1086493        NaN     Fjordengen 12      4300       Holbæk  Other islands   \n",
       "\n",
       "          region  nom_interest_rate%  dk_ann_infl_rate%  \\\n",
       "212845   Zealand                0.00               7.70   \n",
       "1086493  Zealand                2.75               1.92   \n",
       "\n",
       "         yield_on_mortgage_credit_bonds%  \n",
       "212845                              3.73  \n",
       "1086493                             5.14  "
      ]
     },
     "execution_count": 7,
     "metadata": {},
     "output_type": "execute_result"
    }
   ],
   "source": [
    "data[data[\"sqm\"].isna()]"
   ]
  },
  {
   "cell_type": "code",
   "execution_count": 8,
   "metadata": {},
   "outputs": [
    {
     "data": {
      "text/html": [
       "<div>\n",
       "<style scoped>\n",
       "    .dataframe tbody tr th:only-of-type {\n",
       "        vertical-align: middle;\n",
       "    }\n",
       "\n",
       "    .dataframe tbody tr th {\n",
       "        vertical-align: top;\n",
       "    }\n",
       "\n",
       "    .dataframe thead th {\n",
       "        text-align: right;\n",
       "    }\n",
       "</style>\n",
       "<table border=\"1\" class=\"dataframe\">\n",
       "  <thead>\n",
       "    <tr style=\"text-align: right;\">\n",
       "      <th></th>\n",
       "      <th>sqm</th>\n",
       "      <th>sqm_price</th>\n",
       "    </tr>\n",
       "  </thead>\n",
       "  <tbody>\n",
       "    <tr>\n",
       "      <th>count</th>\n",
       "      <td>66.000</td>\n",
       "      <td>66.000</td>\n",
       "    </tr>\n",
       "    <tr>\n",
       "      <th>mean</th>\n",
       "      <td>88.515</td>\n",
       "      <td>24960.367</td>\n",
       "    </tr>\n",
       "    <tr>\n",
       "      <th>std</th>\n",
       "      <td>31.492</td>\n",
       "      <td>9085.290</td>\n",
       "    </tr>\n",
       "    <tr>\n",
       "      <th>min</th>\n",
       "      <td>39.000</td>\n",
       "      <td>9695.432</td>\n",
       "    </tr>\n",
       "    <tr>\n",
       "      <th>25%</th>\n",
       "      <td>72.000</td>\n",
       "      <td>19211.340</td>\n",
       "    </tr>\n",
       "    <tr>\n",
       "      <th>50%</th>\n",
       "      <td>85.000</td>\n",
       "      <td>23077.189</td>\n",
       "    </tr>\n",
       "    <tr>\n",
       "      <th>75%</th>\n",
       "      <td>100.250</td>\n",
       "      <td>26754.166</td>\n",
       "    </tr>\n",
       "    <tr>\n",
       "      <th>max</th>\n",
       "      <td>197.000</td>\n",
       "      <td>50641.027</td>\n",
       "    </tr>\n",
       "  </tbody>\n",
       "</table>\n",
       "</div>"
      ],
      "text/plain": [
       "           sqm  sqm_price\n",
       "count   66.000     66.000\n",
       "mean    88.515  24960.367\n",
       "std     31.492   9085.290\n",
       "min     39.000   9695.432\n",
       "25%     72.000  19211.340\n",
       "50%     85.000  23077.189\n",
       "75%    100.250  26754.166\n",
       "max    197.000  50641.027"
      ]
     },
     "execution_count": 8,
     "metadata": {},
     "output_type": "execute_result"
    }
   ],
   "source": [
    "#set a query for villas on the same area, same purchase_price range and same room num to get the mis vals\n",
    "zealand_villa = data[(data[\"region\"]== \"Zealand\") & (data[\"house_type\"]==\"Villa\") & ( data[\"purchase_price\"] < 2000000) & (data[\"purchase_price\"] > 1900000 ) & (data[\"no_rooms\"] == 2)]\n",
    "zealand_villa[[\"sqm\" , \"sqm_price\"]].describe().round(3)\n",
    "# so i will fillna with median value for sqm 85.000 and sqm_price 23077.189"
   ]
  },
  {
   "cell_type": "code",
   "execution_count": 9,
   "metadata": {},
   "outputs": [
    {
     "data": {
      "text/html": [
       "<div>\n",
       "<style scoped>\n",
       "    .dataframe tbody tr th:only-of-type {\n",
       "        vertical-align: middle;\n",
       "    }\n",
       "\n",
       "    .dataframe tbody tr th {\n",
       "        vertical-align: top;\n",
       "    }\n",
       "\n",
       "    .dataframe thead th {\n",
       "        text-align: right;\n",
       "    }\n",
       "</style>\n",
       "<table border=\"1\" class=\"dataframe\">\n",
       "  <thead>\n",
       "    <tr style=\"text-align: right;\">\n",
       "      <th></th>\n",
       "      <th>sqm</th>\n",
       "      <th>sqm_price</th>\n",
       "    </tr>\n",
       "  </thead>\n",
       "  <tbody>\n",
       "    <tr>\n",
       "      <th>count</th>\n",
       "      <td>69.000</td>\n",
       "      <td>69.000</td>\n",
       "    </tr>\n",
       "    <tr>\n",
       "      <th>mean</th>\n",
       "      <td>51.536</td>\n",
       "      <td>20657.084</td>\n",
       "    </tr>\n",
       "    <tr>\n",
       "      <th>std</th>\n",
       "      <td>13.747</td>\n",
       "      <td>5436.063</td>\n",
       "    </tr>\n",
       "    <tr>\n",
       "      <th>min</th>\n",
       "      <td>26.000</td>\n",
       "      <td>11306.818</td>\n",
       "    </tr>\n",
       "    <tr>\n",
       "      <th>25%</th>\n",
       "      <td>40.000</td>\n",
       "      <td>17456.141</td>\n",
       "    </tr>\n",
       "    <tr>\n",
       "      <th>50%</th>\n",
       "      <td>50.000</td>\n",
       "      <td>19900.000</td>\n",
       "    </tr>\n",
       "    <tr>\n",
       "      <th>75%</th>\n",
       "      <td>57.000</td>\n",
       "      <td>24875.000</td>\n",
       "    </tr>\n",
       "    <tr>\n",
       "      <th>max</th>\n",
       "      <td>88.000</td>\n",
       "      <td>38269.230</td>\n",
       "    </tr>\n",
       "  </tbody>\n",
       "</table>\n",
       "</div>"
      ],
      "text/plain": [
       "          sqm  sqm_price\n",
       "count  69.000     69.000\n",
       "mean   51.536  20657.084\n",
       "std    13.747   5436.063\n",
       "min    26.000  11306.818\n",
       "25%    40.000  17456.141\n",
       "50%    50.000  19900.000\n",
       "75%    57.000  24875.000\n",
       "max    88.000  38269.230"
      ]
     },
     "execution_count": 9,
     "metadata": {},
     "output_type": "execute_result"
    }
   ],
   "source": [
    "#set a query for Summerhouse on the same area, same purchase_price range and same room num to get the mis vals\n",
    "zealand_villa = data[(data[\"region\"]== \"Zealand\") & (data[\"house_type\"]==\"Summerhouse\") & ( data[\"purchase_price\"] < 1000000) & (data[\"purchase_price\"] > 990000 ) & (data[\"no_rooms\"] == 2)]\n",
    "zealand_villa[[\"sqm\" , \"sqm_price\"]].describe().round(3)\n",
    "# so i will fillna with median value for sqm 50.000 and sqm_price 19900.000"
   ]
  },
  {
   "cell_type": "code",
   "execution_count": 10,
   "metadata": {},
   "outputs": [
    {
     "name": "stderr",
     "output_type": "stream",
     "text": [
      "C:\\Users\\mokam\\AppData\\Local\\Temp\\ipykernel_20780\\2500973225.py:1: FutureWarning: Setting an item of incompatible dtype is deprecated and will raise an error in a future version of pandas. Value '23077.189' has dtype incompatible with float32, please explicitly cast to a compatible dtype first.\n",
      "  data.loc[212845,[\"sqm\" , \"sqm_price\"]] = 85 , 23077.189\n"
     ]
    }
   ],
   "source": [
    "data.loc[212845,[\"sqm\" , \"sqm_price\"]] = 85 , 23077.189\n",
    "data.loc[1086493,[\"sqm\" , \"sqm_price\"]] = 50.000 , 19900.000"
   ]
  },
  {
   "cell_type": "code",
   "execution_count": 11,
   "metadata": {},
   "outputs": [
    {
     "data": {
      "text/plain": [
       "date                                   2006-08-21 00:00:00\n",
       "quarter                                             2006Q3\n",
       "house_id                                           1082137\n",
       "house_type                                     Summerhouse\n",
       "sales_type                                    regular_sale\n",
       "year_build                                            1971\n",
       "purchase_price                                      995000\n",
       "%_change_between_offer_and_purchase                    0.0\n",
       "no_rooms                                                 2\n",
       "sqm                                                   50.0\n",
       "sqm_price                                          19900.0\n",
       "address                                      Fjordengen 12\n",
       "zip_code                                              4300\n",
       "city                                                Holbæk\n",
       "area                                         Other islands\n",
       "region                                             Zealand\n",
       "nom_interest_rate%                                    2.75\n",
       "dk_ann_infl_rate%                                     1.92\n",
       "yield_on_mortgage_credit_bonds%                       5.14\n",
       "Name: 1086493, dtype: object"
      ]
     },
     "execution_count": 11,
     "metadata": {},
     "output_type": "execute_result"
    }
   ],
   "source": [
    "data.iloc[1086493]"
   ]
  },
  {
   "cell_type": "code",
   "execution_count": 12,
   "metadata": {},
   "outputs": [
    {
     "name": "stdout",
     "output_type": "stream",
     "text": [
      "<class 'pandas.core.frame.DataFrame'>\n",
      "RangeIndex: 1507908 entries, 0 to 1507907\n",
      "Data columns (total 19 columns):\n",
      " #   Column                               Non-Null Count    Dtype         \n",
      "---  ------                               --------------    -----         \n",
      " 0   date                                 1507908 non-null  datetime64[ns]\n",
      " 1   quarter                              1507908 non-null  period[Q-DEC] \n",
      " 2   house_id                             1507908 non-null  int64         \n",
      " 3   house_type                           1507908 non-null  category      \n",
      " 4   sales_type                           1507908 non-null  category      \n",
      " 5   year_build                           1507908 non-null  int16         \n",
      " 6   purchase_price                       1507908 non-null  int32         \n",
      " 7   %_change_between_offer_and_purchase  1507908 non-null  float32       \n",
      " 8   no_rooms                             1507908 non-null  int8          \n",
      " 9   sqm                                  1507908 non-null  float32       \n",
      " 10  sqm_price                            1507908 non-null  float64       \n",
      " 11  address                              1507908 non-null  object        \n",
      " 12  zip_code                             1507908 non-null  int16         \n",
      " 13  city                                 1507908 non-null  object        \n",
      " 14  area                                 1507908 non-null  category      \n",
      " 15  region                               1507908 non-null  category      \n",
      " 16  nom_interest_rate%                   1507908 non-null  float32       \n",
      " 17  dk_ann_infl_rate%                    1506715 non-null  float32       \n",
      " 18  yield_on_mortgage_credit_bonds%      1506715 non-null  float32       \n",
      "dtypes: category(4), datetime64[ns](1), float32(5), float64(1), int16(2), int32(1), int64(1), int8(1), object(2), period[Q-DEC](1)\n",
      "memory usage: 116.5+ MB\n"
     ]
    }
   ],
   "source": [
    "data.info()"
   ]
  },
  {
   "cell_type": "code",
   "execution_count": 13,
   "metadata": {},
   "outputs": [],
   "source": [
    "# remove dk_ann_infl_rate% & yield_on_mortgage_credit_bonds% columns from data\n",
    "data.drop( columns= [\"dk_ann_infl_rate%\",\"yield_on_mortgage_credit_bonds%\"], inplace=True )"
   ]
  },
  {
   "cell_type": "code",
   "execution_count": 14,
   "metadata": {},
   "outputs": [
    {
     "name": "stdout",
     "output_type": "stream",
     "text": [
      "<class 'pandas.core.frame.DataFrame'>\n",
      "RangeIndex: 1507908 entries, 0 to 1507907\n",
      "Data columns (total 17 columns):\n",
      " #   Column                               Non-Null Count    Dtype         \n",
      "---  ------                               --------------    -----         \n",
      " 0   date                                 1507908 non-null  datetime64[ns]\n",
      " 1   quarter                              1507908 non-null  period[Q-DEC] \n",
      " 2   house_id                             1507908 non-null  int64         \n",
      " 3   house_type                           1507908 non-null  category      \n",
      " 4   sales_type                           1507908 non-null  category      \n",
      " 5   year_build                           1507908 non-null  int16         \n",
      " 6   purchase_price                       1507908 non-null  int32         \n",
      " 7   %_change_between_offer_and_purchase  1507908 non-null  float32       \n",
      " 8   no_rooms                             1507908 non-null  int8          \n",
      " 9   sqm                                  1507908 non-null  float32       \n",
      " 10  sqm_price                            1507908 non-null  float64       \n",
      " 11  address                              1507908 non-null  object        \n",
      " 12  zip_code                             1507908 non-null  int16         \n",
      " 13  city                                 1507908 non-null  object        \n",
      " 14  area                                 1507908 non-null  category      \n",
      " 15  region                               1507908 non-null  category      \n",
      " 16  nom_interest_rate%                   1507908 non-null  float32       \n",
      "dtypes: category(4), datetime64[ns](1), float32(3), float64(1), int16(2), int32(1), int64(1), int8(1), object(2), period[Q-DEC](1)\n",
      "memory usage: 105.0+ MB\n"
     ]
    }
   ],
   "source": [
    "data.info()"
   ]
  },
  {
   "cell_type": "code",
   "execution_count": 15,
   "metadata": {},
   "outputs": [
    {
     "data": {
      "text/html": [
       "<div>\n",
       "<style scoped>\n",
       "    .dataframe tbody tr th:only-of-type {\n",
       "        vertical-align: middle;\n",
       "    }\n",
       "\n",
       "    .dataframe tbody tr th {\n",
       "        vertical-align: top;\n",
       "    }\n",
       "\n",
       "    .dataframe thead th {\n",
       "        text-align: right;\n",
       "    }\n",
       "</style>\n",
       "<table border=\"1\" class=\"dataframe\">\n",
       "  <thead>\n",
       "    <tr style=\"text-align: right;\">\n",
       "      <th></th>\n",
       "      <th>date</th>\n",
       "      <th>quarter</th>\n",
       "      <th>house_id</th>\n",
       "      <th>house_type</th>\n",
       "      <th>sales_type</th>\n",
       "      <th>year_build</th>\n",
       "      <th>purchase_price</th>\n",
       "      <th>%_change_between_offer_and_purchase</th>\n",
       "      <th>no_rooms</th>\n",
       "      <th>sqm</th>\n",
       "      <th>sqm_price</th>\n",
       "      <th>address</th>\n",
       "      <th>zip_code</th>\n",
       "      <th>city</th>\n",
       "      <th>area</th>\n",
       "      <th>region</th>\n",
       "      <th>nom_interest_rate%</th>\n",
       "    </tr>\n",
       "  </thead>\n",
       "  <tbody>\n",
       "    <tr>\n",
       "      <th>878804</th>\n",
       "      <td>2012-03-27</td>\n",
       "      <td>2012Q1</td>\n",
       "      <td>872334</td>\n",
       "      <td>Apartment</td>\n",
       "      <td>regular_sale</td>\n",
       "      <td>1898</td>\n",
       "      <td>360000</td>\n",
       "      <td>-9.0</td>\n",
       "      <td>2</td>\n",
       "      <td>64.0</td>\n",
       "      <td>5625.000000</td>\n",
       "      <td>Nørre Voldgade 98, 2. tv</td>\n",
       "      <td>7000</td>\n",
       "      <td>Fredericia</td>\n",
       "      <td>South jutland</td>\n",
       "      <td>Jutland</td>\n",
       "      <td>0.75</td>\n",
       "    </tr>\n",
       "    <tr>\n",
       "      <th>1101900</th>\n",
       "      <td>2006-04-23</td>\n",
       "      <td>2006Q2</td>\n",
       "      <td>1097519</td>\n",
       "      <td>Villa</td>\n",
       "      <td>regular_sale</td>\n",
       "      <td>1944</td>\n",
       "      <td>510000</td>\n",
       "      <td>0.0</td>\n",
       "      <td>5</td>\n",
       "      <td>134.0</td>\n",
       "      <td>3805.970215</td>\n",
       "      <td>Roostvej 7</td>\n",
       "      <td>6535</td>\n",
       "      <td>Branderup J</td>\n",
       "      <td>South jutland</td>\n",
       "      <td>Jutland</td>\n",
       "      <td>2.50</td>\n",
       "    </tr>\n",
       "    <tr>\n",
       "      <th>974308</th>\n",
       "      <td>2009-07-30</td>\n",
       "      <td>2009Q3</td>\n",
       "      <td>967780</td>\n",
       "      <td>Apartment</td>\n",
       "      <td>regular_sale</td>\n",
       "      <td>1988</td>\n",
       "      <td>748000</td>\n",
       "      <td>0.0</td>\n",
       "      <td>2</td>\n",
       "      <td>60.0</td>\n",
       "      <td>12466.666992</td>\n",
       "      <td>Klinkbjerg 6A</td>\n",
       "      <td>6200</td>\n",
       "      <td>Aabenraa</td>\n",
       "      <td>South jutland</td>\n",
       "      <td>Jutland</td>\n",
       "      <td>1.20</td>\n",
       "    </tr>\n",
       "    <tr>\n",
       "      <th>978416</th>\n",
       "      <td>2009-06-20</td>\n",
       "      <td>2009Q2</td>\n",
       "      <td>971860</td>\n",
       "      <td>Summerhouse</td>\n",
       "      <td>regular_sale</td>\n",
       "      <td>1960</td>\n",
       "      <td>600000</td>\n",
       "      <td>-27.0</td>\n",
       "      <td>4</td>\n",
       "      <td>78.0</td>\n",
       "      <td>7692.307617</td>\n",
       "      <td>Skovvangen 22</td>\n",
       "      <td>4573</td>\n",
       "      <td>Højby</td>\n",
       "      <td>Other islands</td>\n",
       "      <td>Zealand</td>\n",
       "      <td>2.00</td>\n",
       "    </tr>\n",
       "    <tr>\n",
       "      <th>51808</th>\n",
       "      <td>2024-02-18</td>\n",
       "      <td>2024Q1</td>\n",
       "      <td>33731</td>\n",
       "      <td>Summerhouse</td>\n",
       "      <td>regular_sale</td>\n",
       "      <td>2005</td>\n",
       "      <td>1450000</td>\n",
       "      <td>-9.0</td>\n",
       "      <td>3</td>\n",
       "      <td>102.0</td>\n",
       "      <td>14215.686523</td>\n",
       "      <td>Torilisvej 55</td>\n",
       "      <td>4873</td>\n",
       "      <td>Væggerløse</td>\n",
       "      <td>Other islands</td>\n",
       "      <td>Zealand</td>\n",
       "      <td>3.60</td>\n",
       "    </tr>\n",
       "    <tr>\n",
       "      <th>1018932</th>\n",
       "      <td>2008-03-24</td>\n",
       "      <td>2008Q1</td>\n",
       "      <td>1012465</td>\n",
       "      <td>Apartment</td>\n",
       "      <td>regular_sale</td>\n",
       "      <td>2003</td>\n",
       "      <td>1234574</td>\n",
       "      <td>0.0</td>\n",
       "      <td>3</td>\n",
       "      <td>98.0</td>\n",
       "      <td>12597.694336</td>\n",
       "      <td>Astergade 20, 3. 23</td>\n",
       "      <td>6700</td>\n",
       "      <td>Esbjerg</td>\n",
       "      <td>South jutland</td>\n",
       "      <td>Jutland</td>\n",
       "      <td>4.00</td>\n",
       "    </tr>\n",
       "    <tr>\n",
       "      <th>1373116</th>\n",
       "      <td>1998-04-05</td>\n",
       "      <td>1998Q2</td>\n",
       "      <td>1368777</td>\n",
       "      <td>Villa</td>\n",
       "      <td>regular_sale</td>\n",
       "      <td>1970</td>\n",
       "      <td>657160</td>\n",
       "      <td>0.0</td>\n",
       "      <td>5</td>\n",
       "      <td>120.0</td>\n",
       "      <td>5476.333496</td>\n",
       "      <td>Doktorbakken 3</td>\n",
       "      <td>9560</td>\n",
       "      <td>Hadsund</td>\n",
       "      <td>North jutland</td>\n",
       "      <td>Jutland</td>\n",
       "      <td>3.50</td>\n",
       "    </tr>\n",
       "    <tr>\n",
       "      <th>1408372</th>\n",
       "      <td>1996-11-19</td>\n",
       "      <td>1996Q4</td>\n",
       "      <td>1404155</td>\n",
       "      <td>Townhouse</td>\n",
       "      <td>regular_sale</td>\n",
       "      <td>1986</td>\n",
       "      <td>590132</td>\n",
       "      <td>0.0</td>\n",
       "      <td>3</td>\n",
       "      <td>88.0</td>\n",
       "      <td>6706.045410</td>\n",
       "      <td>Blåbærvej 26A</td>\n",
       "      <td>9440</td>\n",
       "      <td>Aabybro</td>\n",
       "      <td>North jutland</td>\n",
       "      <td>Jutland</td>\n",
       "      <td>3.25</td>\n",
       "    </tr>\n",
       "  </tbody>\n",
       "</table>\n",
       "</div>"
      ],
      "text/plain": [
       "              date quarter  house_id   house_type    sales_type  year_build  \\\n",
       "878804  2012-03-27  2012Q1    872334    Apartment  regular_sale        1898   \n",
       "1101900 2006-04-23  2006Q2   1097519        Villa  regular_sale        1944   \n",
       "974308  2009-07-30  2009Q3    967780    Apartment  regular_sale        1988   \n",
       "978416  2009-06-20  2009Q2    971860  Summerhouse  regular_sale        1960   \n",
       "51808   2024-02-18  2024Q1     33731  Summerhouse  regular_sale        2005   \n",
       "1018932 2008-03-24  2008Q1   1012465    Apartment  regular_sale        2003   \n",
       "1373116 1998-04-05  1998Q2   1368777        Villa  regular_sale        1970   \n",
       "1408372 1996-11-19  1996Q4   1404155    Townhouse  regular_sale        1986   \n",
       "\n",
       "         purchase_price  %_change_between_offer_and_purchase  no_rooms    sqm  \\\n",
       "878804           360000                                 -9.0         2   64.0   \n",
       "1101900          510000                                  0.0         5  134.0   \n",
       "974308           748000                                  0.0         2   60.0   \n",
       "978416           600000                                -27.0         4   78.0   \n",
       "51808           1450000                                 -9.0         3  102.0   \n",
       "1018932         1234574                                  0.0         3   98.0   \n",
       "1373116          657160                                  0.0         5  120.0   \n",
       "1408372          590132                                  0.0         3   88.0   \n",
       "\n",
       "            sqm_price                   address  zip_code         city  \\\n",
       "878804    5625.000000  Nørre Voldgade 98, 2. tv      7000   Fredericia   \n",
       "1101900   3805.970215                Roostvej 7      6535  Branderup J   \n",
       "974308   12466.666992             Klinkbjerg 6A      6200     Aabenraa   \n",
       "978416    7692.307617             Skovvangen 22      4573        Højby   \n",
       "51808    14215.686523             Torilisvej 55      4873   Væggerløse   \n",
       "1018932  12597.694336       Astergade 20, 3. 23      6700      Esbjerg   \n",
       "1373116   5476.333496            Doktorbakken 3      9560      Hadsund   \n",
       "1408372   6706.045410             Blåbærvej 26A      9440      Aabybro   \n",
       "\n",
       "                  area   region  nom_interest_rate%  \n",
       "878804   South jutland  Jutland                0.75  \n",
       "1101900  South jutland  Jutland                2.50  \n",
       "974308   South jutland  Jutland                1.20  \n",
       "978416   Other islands  Zealand                2.00  \n",
       "51808    Other islands  Zealand                3.60  \n",
       "1018932  South jutland  Jutland                4.00  \n",
       "1373116  North jutland  Jutland                3.50  \n",
       "1408372  North jutland  Jutland                3.25  "
      ]
     },
     "execution_count": 15,
     "metadata": {},
     "output_type": "execute_result"
    }
   ],
   "source": [
    "data.sample(8)"
   ]
  },
  {
   "cell_type": "code",
   "execution_count": 16,
   "metadata": {},
   "outputs": [
    {
     "data": {
      "text/plain": [
       "['regular_sale', 'family_sale', 'other_sale', 'auction', '-']\n",
       "Categories (5, object): ['-', 'auction', 'family_sale', 'other_sale', 'regular_sale']"
      ]
     },
     "execution_count": 16,
     "metadata": {},
     "output_type": "execute_result"
    }
   ],
   "source": [
    "data.sales_type.unique()"
   ]
  },
  {
   "cell_type": "markdown",
   "metadata": {},
   "source": [
    "## New df cols will be: \n",
    "* (date, house_id, house_type, year_build, purchase_price, no_rooms, sqm , sqm_price, city, area, region )"
   ]
  },
  {
   "cell_type": "code",
   "execution_count": 17,
   "metadata": {},
   "outputs": [],
   "source": [
    "df = data[[\"date\", \"house_id\",\"region\", \"city\", \"house_type\", \"year_build\", \"no_rooms\", \"sqm\" , \"sqm_price\", \"purchase_price\",\"nom_interest_rate%\"]]"
   ]
  },
  {
   "cell_type": "code",
   "execution_count": 18,
   "metadata": {},
   "outputs": [
    {
     "data": {
      "text/html": [
       "<div>\n",
       "<style scoped>\n",
       "    .dataframe tbody tr th:only-of-type {\n",
       "        vertical-align: middle;\n",
       "    }\n",
       "\n",
       "    .dataframe tbody tr th {\n",
       "        vertical-align: top;\n",
       "    }\n",
       "\n",
       "    .dataframe thead th {\n",
       "        text-align: right;\n",
       "    }\n",
       "</style>\n",
       "<table border=\"1\" class=\"dataframe\">\n",
       "  <thead>\n",
       "    <tr style=\"text-align: right;\">\n",
       "      <th></th>\n",
       "      <th>date</th>\n",
       "      <th>house_id</th>\n",
       "      <th>region</th>\n",
       "      <th>city</th>\n",
       "      <th>house_type</th>\n",
       "      <th>year_build</th>\n",
       "      <th>no_rooms</th>\n",
       "      <th>sqm</th>\n",
       "      <th>sqm_price</th>\n",
       "      <th>purchase_price</th>\n",
       "      <th>nom_interest_rate%</th>\n",
       "    </tr>\n",
       "  </thead>\n",
       "  <tbody>\n",
       "    <tr>\n",
       "      <th>214394</th>\n",
       "      <td>2022-02-17</td>\n",
       "      <td>203084</td>\n",
       "      <td>Jutland</td>\n",
       "      <td>Aalborg</td>\n",
       "      <td>Apartment</td>\n",
       "      <td>1934</td>\n",
       "      <td>2</td>\n",
       "      <td>67.0</td>\n",
       "      <td>23134.328125</td>\n",
       "      <td>1550000</td>\n",
       "      <td>0.0</td>\n",
       "    </tr>\n",
       "    <tr>\n",
       "      <th>719919</th>\n",
       "      <td>2015-10-05</td>\n",
       "      <td>713268</td>\n",
       "      <td>Zealand</td>\n",
       "      <td>København NV</td>\n",
       "      <td>Apartment</td>\n",
       "      <td>1974</td>\n",
       "      <td>3</td>\n",
       "      <td>82.0</td>\n",
       "      <td>26817.072266</td>\n",
       "      <td>2199000</td>\n",
       "      <td>0.0</td>\n",
       "    </tr>\n",
       "    <tr>\n",
       "      <th>53557</th>\n",
       "      <td>2024-02-09</td>\n",
       "      <td>35529</td>\n",
       "      <td>Zealand</td>\n",
       "      <td>Hvidovre</td>\n",
       "      <td>Apartment</td>\n",
       "      <td>1966</td>\n",
       "      <td>2</td>\n",
       "      <td>70.0</td>\n",
       "      <td>26071.427734</td>\n",
       "      <td>1825000</td>\n",
       "      <td>3.6</td>\n",
       "    </tr>\n",
       "    <tr>\n",
       "      <th>588669</th>\n",
       "      <td>2018-05-07</td>\n",
       "      <td>579728</td>\n",
       "      <td>Bornholm</td>\n",
       "      <td>Astermarie</td>\n",
       "      <td>Farm</td>\n",
       "      <td>1949</td>\n",
       "      <td>10</td>\n",
       "      <td>223.0</td>\n",
       "      <td>14573.991211</td>\n",
       "      <td>3250000</td>\n",
       "      <td>0.0</td>\n",
       "    </tr>\n",
       "    <tr>\n",
       "      <th>986170</th>\n",
       "      <td>2009-03-26</td>\n",
       "      <td>979596</td>\n",
       "      <td>Zealand</td>\n",
       "      <td>Gørlev</td>\n",
       "      <td>Villa</td>\n",
       "      <td>1965</td>\n",
       "      <td>4</td>\n",
       "      <td>122.0</td>\n",
       "      <td>4508.196777</td>\n",
       "      <td>550000</td>\n",
       "      <td>3.5</td>\n",
       "    </tr>\n",
       "  </tbody>\n",
       "</table>\n",
       "</div>"
      ],
      "text/plain": [
       "             date  house_id    region          city house_type  year_build  \\\n",
       "214394 2022-02-17    203084   Jutland       Aalborg  Apartment        1934   \n",
       "719919 2015-10-05    713268   Zealand  København NV  Apartment        1974   \n",
       "53557  2024-02-09     35529   Zealand      Hvidovre  Apartment        1966   \n",
       "588669 2018-05-07    579728  Bornholm    Astermarie       Farm        1949   \n",
       "986170 2009-03-26    979596   Zealand        Gørlev      Villa        1965   \n",
       "\n",
       "        no_rooms    sqm     sqm_price  purchase_price  nom_interest_rate%  \n",
       "214394         2   67.0  23134.328125         1550000                 0.0  \n",
       "719919         3   82.0  26817.072266         2199000                 0.0  \n",
       "53557          2   70.0  26071.427734         1825000                 3.6  \n",
       "588669        10  223.0  14573.991211         3250000                 0.0  \n",
       "986170         4  122.0   4508.196777          550000                 3.5  "
      ]
     },
     "execution_count": 18,
     "metadata": {},
     "output_type": "execute_result"
    }
   ],
   "source": [
    "df.sample(5)"
   ]
  },
  {
   "cell_type": "code",
   "execution_count": 19,
   "metadata": {},
   "outputs": [
    {
     "name": "stdout",
     "output_type": "stream",
     "text": [
      "<class 'pandas.core.frame.DataFrame'>\n",
      "RangeIndex: 1507908 entries, 0 to 1507907\n",
      "Data columns (total 11 columns):\n",
      " #   Column              Non-Null Count    Dtype         \n",
      "---  ------              --------------    -----         \n",
      " 0   date                1507908 non-null  datetime64[ns]\n",
      " 1   house_id            1507908 non-null  int64         \n",
      " 2   region              1507908 non-null  category      \n",
      " 3   city                1507908 non-null  object        \n",
      " 4   house_type          1507908 non-null  category      \n",
      " 5   year_build          1507908 non-null  int16         \n",
      " 6   no_rooms            1507908 non-null  int8          \n",
      " 7   sqm                 1507908 non-null  float32       \n",
      " 8   sqm_price           1507908 non-null  float64       \n",
      " 9   purchase_price      1507908 non-null  int32         \n",
      " 10  nom_interest_rate%  1507908 non-null  float32       \n",
      "dtypes: category(2), datetime64[ns](1), float32(2), float64(1), int16(1), int32(1), int64(1), int8(1), object(1)\n",
      "memory usage: 70.5+ MB\n"
     ]
    }
   ],
   "source": [
    "df.info()"
   ]
  },
  {
   "cell_type": "markdown",
   "metadata": {},
   "source": [
    "## What are the Top cites by Sales values and number of sold properties ?"
   ]
  },
  {
   "cell_type": "code",
   "execution_count": 97,
   "metadata": {},
   "outputs": [
    {
     "name": "stderr",
     "output_type": "stream",
     "text": [
      "C:\\Users\\mokam\\AppData\\Local\\Temp\\ipykernel_20780\\1461639738.py:1: FutureWarning:\n",
      "\n",
      "The default of observed=False is deprecated and will be changed to True in a future version of pandas. Pass observed=False to retain current behavior or observed=True to adopt the future default and silence this warning.\n",
      "\n"
     ]
    }
   ],
   "source": [
    "area_city_sales = df.groupby([\"region\" ,\"city\"])[\"purchase_price\"].agg([\"count\" , \"sum\"]).sort_values(by=\"sum\",ascending=False).reset_index().head(11)"
   ]
  },
  {
   "cell_type": "code",
   "execution_count": 104,
   "metadata": {},
   "outputs": [],
   "source": [
    "area_city_sales = area_city_sales.rename(columns={\"count\" : \"prop sold count\" , \"sum\" : \"sales amount\"})\n"
   ]
  },
  {
   "cell_type": "code",
   "execution_count": 109,
   "metadata": {},
   "outputs": [
    {
     "data": {
      "application/vnd.plotly.v1+json": {
       "config": {
        "plotlyServerURL": "https://plot.ly"
       },
       "data": [
        {
         "alignmentgroup": "True",
         "hovertemplate": "city=København S<br>region=%{x}<br>sales amount=%{y}<extra></extra>",
         "legendgroup": "København S",
         "marker": {
          "color": "#636efa",
          "pattern": {
           "shape": ""
          }
         },
         "name": "København S",
         "offsetgroup": "København S",
         "orientation": "v",
         "showlegend": true,
         "textposition": "auto",
         "type": "bar",
         "x": [
          "Zealand"
         ],
         "xaxis": "x",
         "y": [
          65863441644
         ],
         "yaxis": "y"
        },
        {
         "alignmentgroup": "True",
         "hovertemplate": "city=Aarhus C<br>region=%{x}<br>sales amount=%{y}<extra></extra>",
         "legendgroup": "Aarhus C",
         "marker": {
          "color": "#EF553B",
          "pattern": {
           "shape": ""
          }
         },
         "name": "Aarhus C",
         "offsetgroup": "Aarhus C",
         "orientation": "v",
         "showlegend": true,
         "textposition": "auto",
         "type": "bar",
         "x": [
          "Jutland"
         ],
         "xaxis": "x",
         "y": [
          48102777082
         ],
         "yaxis": "y"
        },
        {
         "alignmentgroup": "True",
         "hovertemplate": "city=Roskilde<br>region=%{x}<br>sales amount=%{y}<extra></extra>",
         "legendgroup": "Roskilde",
         "marker": {
          "color": "#00cc96",
          "pattern": {
           "shape": ""
          }
         },
         "name": "Roskilde",
         "offsetgroup": "Roskilde",
         "orientation": "v",
         "showlegend": true,
         "textposition": "auto",
         "type": "bar",
         "x": [
          "Zealand"
         ],
         "xaxis": "x",
         "y": [
          43321032626
         ],
         "yaxis": "y"
        },
        {
         "alignmentgroup": "True",
         "hovertemplate": "city=København A<br>region=%{x}<br>sales amount=%{y}<extra></extra>",
         "legendgroup": "København A",
         "marker": {
          "color": "#ab63fa",
          "pattern": {
           "shape": ""
          }
         },
         "name": "København A",
         "offsetgroup": "København A",
         "orientation": "v",
         "showlegend": true,
         "textposition": "auto",
         "type": "bar",
         "x": [
          "Zealand"
         ],
         "xaxis": "x",
         "y": [
          40396347573
         ],
         "yaxis": "y"
        },
        {
         "alignmentgroup": "True",
         "hovertemplate": "city=Silkeborg<br>region=%{x}<br>sales amount=%{y}<extra></extra>",
         "legendgroup": "Silkeborg",
         "marker": {
          "color": "#FFA15A",
          "pattern": {
           "shape": ""
          }
         },
         "name": "Silkeborg",
         "offsetgroup": "Silkeborg",
         "orientation": "v",
         "showlegend": true,
         "textposition": "auto",
         "type": "bar",
         "x": [
          "Jutland"
         ],
         "xaxis": "x",
         "y": [
          36979972342
         ],
         "yaxis": "y"
        },
        {
         "alignmentgroup": "True",
         "hovertemplate": "city=Aalborg<br>region=%{x}<br>sales amount=%{y}<extra></extra>",
         "legendgroup": "Aalborg",
         "marker": {
          "color": "#19d3f3",
          "pattern": {
           "shape": ""
          }
         },
         "name": "Aalborg",
         "offsetgroup": "Aalborg",
         "orientation": "v",
         "showlegend": true,
         "textposition": "auto",
         "type": "bar",
         "x": [
          "Jutland"
         ],
         "xaxis": "x",
         "y": [
          36883392908
         ],
         "yaxis": "y"
        },
        {
         "alignmentgroup": "True",
         "hovertemplate": "city=Frederiksberg<br>region=%{x}<br>sales amount=%{y}<extra></extra>",
         "legendgroup": "Frederiksberg",
         "marker": {
          "color": "#FF6692",
          "pattern": {
           "shape": ""
          }
         },
         "name": "Frederiksberg",
         "offsetgroup": "Frederiksberg",
         "orientation": "v",
         "showlegend": true,
         "textposition": "auto",
         "type": "bar",
         "x": [
          "Zealand"
         ],
         "xaxis": "x",
         "y": [
          34183275574
         ],
         "yaxis": "y"
        },
        {
         "alignmentgroup": "True",
         "hovertemplate": "city=Horsens<br>region=%{x}<br>sales amount=%{y}<extra></extra>",
         "legendgroup": "Horsens",
         "marker": {
          "color": "#B6E880",
          "pattern": {
           "shape": ""
          }
         },
         "name": "Horsens",
         "offsetgroup": "Horsens",
         "orientation": "v",
         "showlegend": true,
         "textposition": "auto",
         "type": "bar",
         "x": [
          "Jutland"
         ],
         "xaxis": "x",
         "y": [
          33732972414
         ],
         "yaxis": "y"
        },
        {
         "alignmentgroup": "True",
         "hovertemplate": "city=København K<br>region=%{x}<br>sales amount=%{y}<extra></extra>",
         "legendgroup": "København K",
         "marker": {
          "color": "#FF97FF",
          "pattern": {
           "shape": ""
          }
         },
         "name": "København K",
         "offsetgroup": "København K",
         "orientation": "v",
         "showlegend": true,
         "textposition": "auto",
         "type": "bar",
         "x": [
          "Zealand"
         ],
         "xaxis": "x",
         "y": [
          29261203545
         ],
         "yaxis": "y"
        },
        {
         "alignmentgroup": "True",
         "hovertemplate": "city=Odense C<br>region=%{x}<br>sales amount=%{y}<extra></extra>",
         "legendgroup": "Odense C",
         "marker": {
          "color": "#FECB52",
          "pattern": {
           "shape": ""
          }
         },
         "name": "Odense C",
         "offsetgroup": "Odense C",
         "orientation": "v",
         "showlegend": true,
         "textposition": "auto",
         "type": "bar",
         "x": [
          "Fyn & islands"
         ],
         "xaxis": "x",
         "y": [
          29046025114
         ],
         "yaxis": "y"
        },
        {
         "alignmentgroup": "True",
         "hovertemplate": "city=Hellerup<br>region=%{x}<br>sales amount=%{y}<extra></extra>",
         "legendgroup": "Hellerup",
         "marker": {
          "color": "#636efa",
          "pattern": {
           "shape": ""
          }
         },
         "name": "Hellerup",
         "offsetgroup": "Hellerup",
         "orientation": "v",
         "showlegend": true,
         "textposition": "auto",
         "type": "bar",
         "x": [
          "Zealand"
         ],
         "xaxis": "x",
         "y": [
          28921357331
         ],
         "yaxis": "y"
        }
       ],
       "layout": {
        "barmode": "group",
        "legend": {
         "title": {
          "text": "city"
         },
         "tracegroupgap": 0
        },
        "template": {
         "data": {
          "bar": [
           {
            "error_x": {
             "color": "#2a3f5f"
            },
            "error_y": {
             "color": "#2a3f5f"
            },
            "marker": {
             "line": {
              "color": "#E5ECF6",
              "width": 0.5
             },
             "pattern": {
              "fillmode": "overlay",
              "size": 10,
              "solidity": 0.2
             }
            },
            "type": "bar"
           }
          ],
          "barpolar": [
           {
            "marker": {
             "line": {
              "color": "#E5ECF6",
              "width": 0.5
             },
             "pattern": {
              "fillmode": "overlay",
              "size": 10,
              "solidity": 0.2
             }
            },
            "type": "barpolar"
           }
          ],
          "carpet": [
           {
            "aaxis": {
             "endlinecolor": "#2a3f5f",
             "gridcolor": "white",
             "linecolor": "white",
             "minorgridcolor": "white",
             "startlinecolor": "#2a3f5f"
            },
            "baxis": {
             "endlinecolor": "#2a3f5f",
             "gridcolor": "white",
             "linecolor": "white",
             "minorgridcolor": "white",
             "startlinecolor": "#2a3f5f"
            },
            "type": "carpet"
           }
          ],
          "choropleth": [
           {
            "colorbar": {
             "outlinewidth": 0,
             "ticks": ""
            },
            "type": "choropleth"
           }
          ],
          "contour": [
           {
            "colorbar": {
             "outlinewidth": 0,
             "ticks": ""
            },
            "colorscale": [
             [
              0,
              "#0d0887"
             ],
             [
              0.1111111111111111,
              "#46039f"
             ],
             [
              0.2222222222222222,
              "#7201a8"
             ],
             [
              0.3333333333333333,
              "#9c179e"
             ],
             [
              0.4444444444444444,
              "#bd3786"
             ],
             [
              0.5555555555555556,
              "#d8576b"
             ],
             [
              0.6666666666666666,
              "#ed7953"
             ],
             [
              0.7777777777777778,
              "#fb9f3a"
             ],
             [
              0.8888888888888888,
              "#fdca26"
             ],
             [
              1,
              "#f0f921"
             ]
            ],
            "type": "contour"
           }
          ],
          "contourcarpet": [
           {
            "colorbar": {
             "outlinewidth": 0,
             "ticks": ""
            },
            "type": "contourcarpet"
           }
          ],
          "heatmap": [
           {
            "colorbar": {
             "outlinewidth": 0,
             "ticks": ""
            },
            "colorscale": [
             [
              0,
              "#0d0887"
             ],
             [
              0.1111111111111111,
              "#46039f"
             ],
             [
              0.2222222222222222,
              "#7201a8"
             ],
             [
              0.3333333333333333,
              "#9c179e"
             ],
             [
              0.4444444444444444,
              "#bd3786"
             ],
             [
              0.5555555555555556,
              "#d8576b"
             ],
             [
              0.6666666666666666,
              "#ed7953"
             ],
             [
              0.7777777777777778,
              "#fb9f3a"
             ],
             [
              0.8888888888888888,
              "#fdca26"
             ],
             [
              1,
              "#f0f921"
             ]
            ],
            "type": "heatmap"
           }
          ],
          "heatmapgl": [
           {
            "colorbar": {
             "outlinewidth": 0,
             "ticks": ""
            },
            "colorscale": [
             [
              0,
              "#0d0887"
             ],
             [
              0.1111111111111111,
              "#46039f"
             ],
             [
              0.2222222222222222,
              "#7201a8"
             ],
             [
              0.3333333333333333,
              "#9c179e"
             ],
             [
              0.4444444444444444,
              "#bd3786"
             ],
             [
              0.5555555555555556,
              "#d8576b"
             ],
             [
              0.6666666666666666,
              "#ed7953"
             ],
             [
              0.7777777777777778,
              "#fb9f3a"
             ],
             [
              0.8888888888888888,
              "#fdca26"
             ],
             [
              1,
              "#f0f921"
             ]
            ],
            "type": "heatmapgl"
           }
          ],
          "histogram": [
           {
            "marker": {
             "pattern": {
              "fillmode": "overlay",
              "size": 10,
              "solidity": 0.2
             }
            },
            "type": "histogram"
           }
          ],
          "histogram2d": [
           {
            "colorbar": {
             "outlinewidth": 0,
             "ticks": ""
            },
            "colorscale": [
             [
              0,
              "#0d0887"
             ],
             [
              0.1111111111111111,
              "#46039f"
             ],
             [
              0.2222222222222222,
              "#7201a8"
             ],
             [
              0.3333333333333333,
              "#9c179e"
             ],
             [
              0.4444444444444444,
              "#bd3786"
             ],
             [
              0.5555555555555556,
              "#d8576b"
             ],
             [
              0.6666666666666666,
              "#ed7953"
             ],
             [
              0.7777777777777778,
              "#fb9f3a"
             ],
             [
              0.8888888888888888,
              "#fdca26"
             ],
             [
              1,
              "#f0f921"
             ]
            ],
            "type": "histogram2d"
           }
          ],
          "histogram2dcontour": [
           {
            "colorbar": {
             "outlinewidth": 0,
             "ticks": ""
            },
            "colorscale": [
             [
              0,
              "#0d0887"
             ],
             [
              0.1111111111111111,
              "#46039f"
             ],
             [
              0.2222222222222222,
              "#7201a8"
             ],
             [
              0.3333333333333333,
              "#9c179e"
             ],
             [
              0.4444444444444444,
              "#bd3786"
             ],
             [
              0.5555555555555556,
              "#d8576b"
             ],
             [
              0.6666666666666666,
              "#ed7953"
             ],
             [
              0.7777777777777778,
              "#fb9f3a"
             ],
             [
              0.8888888888888888,
              "#fdca26"
             ],
             [
              1,
              "#f0f921"
             ]
            ],
            "type": "histogram2dcontour"
           }
          ],
          "mesh3d": [
           {
            "colorbar": {
             "outlinewidth": 0,
             "ticks": ""
            },
            "type": "mesh3d"
           }
          ],
          "parcoords": [
           {
            "line": {
             "colorbar": {
              "outlinewidth": 0,
              "ticks": ""
             }
            },
            "type": "parcoords"
           }
          ],
          "pie": [
           {
            "automargin": true,
            "type": "pie"
           }
          ],
          "scatter": [
           {
            "fillpattern": {
             "fillmode": "overlay",
             "size": 10,
             "solidity": 0.2
            },
            "type": "scatter"
           }
          ],
          "scatter3d": [
           {
            "line": {
             "colorbar": {
              "outlinewidth": 0,
              "ticks": ""
             }
            },
            "marker": {
             "colorbar": {
              "outlinewidth": 0,
              "ticks": ""
             }
            },
            "type": "scatter3d"
           }
          ],
          "scattercarpet": [
           {
            "marker": {
             "colorbar": {
              "outlinewidth": 0,
              "ticks": ""
             }
            },
            "type": "scattercarpet"
           }
          ],
          "scattergeo": [
           {
            "marker": {
             "colorbar": {
              "outlinewidth": 0,
              "ticks": ""
             }
            },
            "type": "scattergeo"
           }
          ],
          "scattergl": [
           {
            "marker": {
             "colorbar": {
              "outlinewidth": 0,
              "ticks": ""
             }
            },
            "type": "scattergl"
           }
          ],
          "scattermapbox": [
           {
            "marker": {
             "colorbar": {
              "outlinewidth": 0,
              "ticks": ""
             }
            },
            "type": "scattermapbox"
           }
          ],
          "scatterpolar": [
           {
            "marker": {
             "colorbar": {
              "outlinewidth": 0,
              "ticks": ""
             }
            },
            "type": "scatterpolar"
           }
          ],
          "scatterpolargl": [
           {
            "marker": {
             "colorbar": {
              "outlinewidth": 0,
              "ticks": ""
             }
            },
            "type": "scatterpolargl"
           }
          ],
          "scatterternary": [
           {
            "marker": {
             "colorbar": {
              "outlinewidth": 0,
              "ticks": ""
             }
            },
            "type": "scatterternary"
           }
          ],
          "surface": [
           {
            "colorbar": {
             "outlinewidth": 0,
             "ticks": ""
            },
            "colorscale": [
             [
              0,
              "#0d0887"
             ],
             [
              0.1111111111111111,
              "#46039f"
             ],
             [
              0.2222222222222222,
              "#7201a8"
             ],
             [
              0.3333333333333333,
              "#9c179e"
             ],
             [
              0.4444444444444444,
              "#bd3786"
             ],
             [
              0.5555555555555556,
              "#d8576b"
             ],
             [
              0.6666666666666666,
              "#ed7953"
             ],
             [
              0.7777777777777778,
              "#fb9f3a"
             ],
             [
              0.8888888888888888,
              "#fdca26"
             ],
             [
              1,
              "#f0f921"
             ]
            ],
            "type": "surface"
           }
          ],
          "table": [
           {
            "cells": {
             "fill": {
              "color": "#EBF0F8"
             },
             "line": {
              "color": "white"
             }
            },
            "header": {
             "fill": {
              "color": "#C8D4E3"
             },
             "line": {
              "color": "white"
             }
            },
            "type": "table"
           }
          ]
         },
         "layout": {
          "annotationdefaults": {
           "arrowcolor": "#2a3f5f",
           "arrowhead": 0,
           "arrowwidth": 1
          },
          "autotypenumbers": "strict",
          "coloraxis": {
           "colorbar": {
            "outlinewidth": 0,
            "ticks": ""
           }
          },
          "colorscale": {
           "diverging": [
            [
             0,
             "#8e0152"
            ],
            [
             0.1,
             "#c51b7d"
            ],
            [
             0.2,
             "#de77ae"
            ],
            [
             0.3,
             "#f1b6da"
            ],
            [
             0.4,
             "#fde0ef"
            ],
            [
             0.5,
             "#f7f7f7"
            ],
            [
             0.6,
             "#e6f5d0"
            ],
            [
             0.7,
             "#b8e186"
            ],
            [
             0.8,
             "#7fbc41"
            ],
            [
             0.9,
             "#4d9221"
            ],
            [
             1,
             "#276419"
            ]
           ],
           "sequential": [
            [
             0,
             "#0d0887"
            ],
            [
             0.1111111111111111,
             "#46039f"
            ],
            [
             0.2222222222222222,
             "#7201a8"
            ],
            [
             0.3333333333333333,
             "#9c179e"
            ],
            [
             0.4444444444444444,
             "#bd3786"
            ],
            [
             0.5555555555555556,
             "#d8576b"
            ],
            [
             0.6666666666666666,
             "#ed7953"
            ],
            [
             0.7777777777777778,
             "#fb9f3a"
            ],
            [
             0.8888888888888888,
             "#fdca26"
            ],
            [
             1,
             "#f0f921"
            ]
           ],
           "sequentialminus": [
            [
             0,
             "#0d0887"
            ],
            [
             0.1111111111111111,
             "#46039f"
            ],
            [
             0.2222222222222222,
             "#7201a8"
            ],
            [
             0.3333333333333333,
             "#9c179e"
            ],
            [
             0.4444444444444444,
             "#bd3786"
            ],
            [
             0.5555555555555556,
             "#d8576b"
            ],
            [
             0.6666666666666666,
             "#ed7953"
            ],
            [
             0.7777777777777778,
             "#fb9f3a"
            ],
            [
             0.8888888888888888,
             "#fdca26"
            ],
            [
             1,
             "#f0f921"
            ]
           ]
          },
          "colorway": [
           "#636efa",
           "#EF553B",
           "#00cc96",
           "#ab63fa",
           "#FFA15A",
           "#19d3f3",
           "#FF6692",
           "#B6E880",
           "#FF97FF",
           "#FECB52"
          ],
          "font": {
           "color": "#2a3f5f"
          },
          "geo": {
           "bgcolor": "white",
           "lakecolor": "white",
           "landcolor": "#E5ECF6",
           "showlakes": true,
           "showland": true,
           "subunitcolor": "white"
          },
          "hoverlabel": {
           "align": "left"
          },
          "hovermode": "closest",
          "mapbox": {
           "style": "light"
          },
          "paper_bgcolor": "white",
          "plot_bgcolor": "#E5ECF6",
          "polar": {
           "angularaxis": {
            "gridcolor": "white",
            "linecolor": "white",
            "ticks": ""
           },
           "bgcolor": "#E5ECF6",
           "radialaxis": {
            "gridcolor": "white",
            "linecolor": "white",
            "ticks": ""
           }
          },
          "scene": {
           "xaxis": {
            "backgroundcolor": "#E5ECF6",
            "gridcolor": "white",
            "gridwidth": 2,
            "linecolor": "white",
            "showbackground": true,
            "ticks": "",
            "zerolinecolor": "white"
           },
           "yaxis": {
            "backgroundcolor": "#E5ECF6",
            "gridcolor": "white",
            "gridwidth": 2,
            "linecolor": "white",
            "showbackground": true,
            "ticks": "",
            "zerolinecolor": "white"
           },
           "zaxis": {
            "backgroundcolor": "#E5ECF6",
            "gridcolor": "white",
            "gridwidth": 2,
            "linecolor": "white",
            "showbackground": true,
            "ticks": "",
            "zerolinecolor": "white"
           }
          },
          "shapedefaults": {
           "line": {
            "color": "#2a3f5f"
           }
          },
          "ternary": {
           "aaxis": {
            "gridcolor": "white",
            "linecolor": "white",
            "ticks": ""
           },
           "baxis": {
            "gridcolor": "white",
            "linecolor": "white",
            "ticks": ""
           },
           "bgcolor": "#E5ECF6",
           "caxis": {
            "gridcolor": "white",
            "linecolor": "white",
            "ticks": ""
           }
          },
          "title": {
           "x": 0.05
          },
          "xaxis": {
           "automargin": true,
           "gridcolor": "white",
           "linecolor": "white",
           "ticks": "",
           "title": {
            "standoff": 15
           },
           "zerolinecolor": "white",
           "zerolinewidth": 2
          },
          "yaxis": {
           "automargin": true,
           "gridcolor": "white",
           "linecolor": "white",
           "ticks": "",
           "title": {
            "standoff": 15
           },
           "zerolinecolor": "white",
           "zerolinewidth": 2
          }
         }
        },
        "title": {
         "text": "Top 10 cities by sales value",
         "x": 0.5
        },
        "xaxis": {
         "anchor": "y",
         "domain": [
          0,
          1
         ],
         "title": {
          "text": "region"
         }
        },
        "yaxis": {
         "anchor": "x",
         "domain": [
          0,
          1
         ],
         "title": {
          "text": "sales amount"
         }
        }
       }
      }
     },
     "metadata": {},
     "output_type": "display_data"
    },
    {
     "data": {
      "application/vnd.plotly.v1+json": {
       "config": {
        "plotlyServerURL": "https://plot.ly"
       },
       "data": [
        {
         "alignmentgroup": "True",
         "hovertemplate": "city=København S<br>region=%{x}<br>prop sold count=%{y}<extra></extra>",
         "legendgroup": "København S",
         "marker": {
          "color": "#636efa",
          "pattern": {
           "shape": ""
          }
         },
         "name": "København S",
         "offsetgroup": "København S",
         "orientation": "v",
         "showlegend": true,
         "textposition": "auto",
         "type": "bar",
         "x": [
          "Zealand"
         ],
         "xaxis": "x",
         "y": [
          20111
         ],
         "yaxis": "y"
        },
        {
         "alignmentgroup": "True",
         "hovertemplate": "city=Aarhus C<br>region=%{x}<br>prop sold count=%{y}<extra></extra>",
         "legendgroup": "Aarhus C",
         "marker": {
          "color": "#EF553B",
          "pattern": {
           "shape": ""
          }
         },
         "name": "Aarhus C",
         "offsetgroup": "Aarhus C",
         "orientation": "v",
         "showlegend": true,
         "textposition": "auto",
         "type": "bar",
         "x": [
          "Jutland"
         ],
         "xaxis": "x",
         "y": [
          15526
         ],
         "yaxis": "y"
        },
        {
         "alignmentgroup": "True",
         "hovertemplate": "city=Roskilde<br>region=%{x}<br>prop sold count=%{y}<extra></extra>",
         "legendgroup": "Roskilde",
         "marker": {
          "color": "#00cc96",
          "pattern": {
           "shape": ""
          }
         },
         "name": "Roskilde",
         "offsetgroup": "Roskilde",
         "orientation": "v",
         "showlegend": true,
         "textposition": "auto",
         "type": "bar",
         "x": [
          "Zealand"
         ],
         "xaxis": "x",
         "y": [
          15919
         ],
         "yaxis": "y"
        },
        {
         "alignmentgroup": "True",
         "hovertemplate": "city=København A<br>region=%{x}<br>prop sold count=%{y}<extra></extra>",
         "legendgroup": "København A",
         "marker": {
          "color": "#ab63fa",
          "pattern": {
           "shape": ""
          }
         },
         "name": "København A",
         "offsetgroup": "København A",
         "orientation": "v",
         "showlegend": true,
         "textposition": "auto",
         "type": "bar",
         "x": [
          "Zealand"
         ],
         "xaxis": "x",
         "y": [
          10743
         ],
         "yaxis": "y"
        },
        {
         "alignmentgroup": "True",
         "hovertemplate": "city=Silkeborg<br>region=%{x}<br>prop sold count=%{y}<extra></extra>",
         "legendgroup": "Silkeborg",
         "marker": {
          "color": "#FFA15A",
          "pattern": {
           "shape": ""
          }
         },
         "name": "Silkeborg",
         "offsetgroup": "Silkeborg",
         "orientation": "v",
         "showlegend": true,
         "textposition": "auto",
         "type": "bar",
         "x": [
          "Jutland"
         ],
         "xaxis": "x",
         "y": [
          16212
         ],
         "yaxis": "y"
        },
        {
         "alignmentgroup": "True",
         "hovertemplate": "city=Aalborg<br>region=%{x}<br>prop sold count=%{y}<extra></extra>",
         "legendgroup": "Aalborg",
         "marker": {
          "color": "#19d3f3",
          "pattern": {
           "shape": ""
          }
         },
         "name": "Aalborg",
         "offsetgroup": "Aalborg",
         "orientation": "v",
         "showlegend": true,
         "textposition": "auto",
         "type": "bar",
         "x": [
          "Jutland"
         ],
         "xaxis": "x",
         "y": [
          16321
         ],
         "yaxis": "y"
        },
        {
         "alignmentgroup": "True",
         "hovertemplate": "city=Frederiksberg<br>region=%{x}<br>prop sold count=%{y}<extra></extra>",
         "legendgroup": "Frederiksberg",
         "marker": {
          "color": "#FF6692",
          "pattern": {
           "shape": ""
          }
         },
         "name": "Frederiksberg",
         "offsetgroup": "Frederiksberg",
         "orientation": "v",
         "showlegend": true,
         "textposition": "auto",
         "type": "bar",
         "x": [
          "Zealand"
         ],
         "xaxis": "x",
         "y": [
          9748
         ],
         "yaxis": "y"
        },
        {
         "alignmentgroup": "True",
         "hovertemplate": "city=Horsens<br>region=%{x}<br>prop sold count=%{y}<extra></extra>",
         "legendgroup": "Horsens",
         "marker": {
          "color": "#B6E880",
          "pattern": {
           "shape": ""
          }
         },
         "name": "Horsens",
         "offsetgroup": "Horsens",
         "orientation": "v",
         "showlegend": true,
         "textposition": "auto",
         "type": "bar",
         "x": [
          "Jutland"
         ],
         "xaxis": "x",
         "y": [
          18809
         ],
         "yaxis": "y"
        },
        {
         "alignmentgroup": "True",
         "hovertemplate": "city=København K<br>region=%{x}<br>prop sold count=%{y}<extra></extra>",
         "legendgroup": "København K",
         "marker": {
          "color": "#FF97FF",
          "pattern": {
           "shape": ""
          }
         },
         "name": "København K",
         "offsetgroup": "København K",
         "orientation": "v",
         "showlegend": true,
         "textposition": "auto",
         "type": "bar",
         "x": [
          "Zealand"
         ],
         "xaxis": "x",
         "y": [
          6836
         ],
         "yaxis": "y"
        },
        {
         "alignmentgroup": "True",
         "hovertemplate": "city=Odense C<br>region=%{x}<br>prop sold count=%{y}<extra></extra>",
         "legendgroup": "Odense C",
         "marker": {
          "color": "#FECB52",
          "pattern": {
           "shape": ""
          }
         },
         "name": "Odense C",
         "offsetgroup": "Odense C",
         "orientation": "v",
         "showlegend": true,
         "textposition": "auto",
         "type": "bar",
         "x": [
          "Fyn & islands"
         ],
         "xaxis": "x",
         "y": [
          12667
         ],
         "yaxis": "y"
        },
        {
         "alignmentgroup": "True",
         "hovertemplate": "city=Hellerup<br>region=%{x}<br>prop sold count=%{y}<extra></extra>",
         "legendgroup": "Hellerup",
         "marker": {
          "color": "#636efa",
          "pattern": {
           "shape": ""
          }
         },
         "name": "Hellerup",
         "offsetgroup": "Hellerup",
         "orientation": "v",
         "showlegend": true,
         "textposition": "auto",
         "type": "bar",
         "x": [
          "Zealand"
         ],
         "xaxis": "x",
         "y": [
          5702
         ],
         "yaxis": "y"
        }
       ],
       "layout": {
        "barmode": "group",
        "legend": {
         "title": {
          "text": "city"
         },
         "tracegroupgap": 0
        },
        "template": {
         "data": {
          "bar": [
           {
            "error_x": {
             "color": "#2a3f5f"
            },
            "error_y": {
             "color": "#2a3f5f"
            },
            "marker": {
             "line": {
              "color": "#E5ECF6",
              "width": 0.5
             },
             "pattern": {
              "fillmode": "overlay",
              "size": 10,
              "solidity": 0.2
             }
            },
            "type": "bar"
           }
          ],
          "barpolar": [
           {
            "marker": {
             "line": {
              "color": "#E5ECF6",
              "width": 0.5
             },
             "pattern": {
              "fillmode": "overlay",
              "size": 10,
              "solidity": 0.2
             }
            },
            "type": "barpolar"
           }
          ],
          "carpet": [
           {
            "aaxis": {
             "endlinecolor": "#2a3f5f",
             "gridcolor": "white",
             "linecolor": "white",
             "minorgridcolor": "white",
             "startlinecolor": "#2a3f5f"
            },
            "baxis": {
             "endlinecolor": "#2a3f5f",
             "gridcolor": "white",
             "linecolor": "white",
             "minorgridcolor": "white",
             "startlinecolor": "#2a3f5f"
            },
            "type": "carpet"
           }
          ],
          "choropleth": [
           {
            "colorbar": {
             "outlinewidth": 0,
             "ticks": ""
            },
            "type": "choropleth"
           }
          ],
          "contour": [
           {
            "colorbar": {
             "outlinewidth": 0,
             "ticks": ""
            },
            "colorscale": [
             [
              0,
              "#0d0887"
             ],
             [
              0.1111111111111111,
              "#46039f"
             ],
             [
              0.2222222222222222,
              "#7201a8"
             ],
             [
              0.3333333333333333,
              "#9c179e"
             ],
             [
              0.4444444444444444,
              "#bd3786"
             ],
             [
              0.5555555555555556,
              "#d8576b"
             ],
             [
              0.6666666666666666,
              "#ed7953"
             ],
             [
              0.7777777777777778,
              "#fb9f3a"
             ],
             [
              0.8888888888888888,
              "#fdca26"
             ],
             [
              1,
              "#f0f921"
             ]
            ],
            "type": "contour"
           }
          ],
          "contourcarpet": [
           {
            "colorbar": {
             "outlinewidth": 0,
             "ticks": ""
            },
            "type": "contourcarpet"
           }
          ],
          "heatmap": [
           {
            "colorbar": {
             "outlinewidth": 0,
             "ticks": ""
            },
            "colorscale": [
             [
              0,
              "#0d0887"
             ],
             [
              0.1111111111111111,
              "#46039f"
             ],
             [
              0.2222222222222222,
              "#7201a8"
             ],
             [
              0.3333333333333333,
              "#9c179e"
             ],
             [
              0.4444444444444444,
              "#bd3786"
             ],
             [
              0.5555555555555556,
              "#d8576b"
             ],
             [
              0.6666666666666666,
              "#ed7953"
             ],
             [
              0.7777777777777778,
              "#fb9f3a"
             ],
             [
              0.8888888888888888,
              "#fdca26"
             ],
             [
              1,
              "#f0f921"
             ]
            ],
            "type": "heatmap"
           }
          ],
          "heatmapgl": [
           {
            "colorbar": {
             "outlinewidth": 0,
             "ticks": ""
            },
            "colorscale": [
             [
              0,
              "#0d0887"
             ],
             [
              0.1111111111111111,
              "#46039f"
             ],
             [
              0.2222222222222222,
              "#7201a8"
             ],
             [
              0.3333333333333333,
              "#9c179e"
             ],
             [
              0.4444444444444444,
              "#bd3786"
             ],
             [
              0.5555555555555556,
              "#d8576b"
             ],
             [
              0.6666666666666666,
              "#ed7953"
             ],
             [
              0.7777777777777778,
              "#fb9f3a"
             ],
             [
              0.8888888888888888,
              "#fdca26"
             ],
             [
              1,
              "#f0f921"
             ]
            ],
            "type": "heatmapgl"
           }
          ],
          "histogram": [
           {
            "marker": {
             "pattern": {
              "fillmode": "overlay",
              "size": 10,
              "solidity": 0.2
             }
            },
            "type": "histogram"
           }
          ],
          "histogram2d": [
           {
            "colorbar": {
             "outlinewidth": 0,
             "ticks": ""
            },
            "colorscale": [
             [
              0,
              "#0d0887"
             ],
             [
              0.1111111111111111,
              "#46039f"
             ],
             [
              0.2222222222222222,
              "#7201a8"
             ],
             [
              0.3333333333333333,
              "#9c179e"
             ],
             [
              0.4444444444444444,
              "#bd3786"
             ],
             [
              0.5555555555555556,
              "#d8576b"
             ],
             [
              0.6666666666666666,
              "#ed7953"
             ],
             [
              0.7777777777777778,
              "#fb9f3a"
             ],
             [
              0.8888888888888888,
              "#fdca26"
             ],
             [
              1,
              "#f0f921"
             ]
            ],
            "type": "histogram2d"
           }
          ],
          "histogram2dcontour": [
           {
            "colorbar": {
             "outlinewidth": 0,
             "ticks": ""
            },
            "colorscale": [
             [
              0,
              "#0d0887"
             ],
             [
              0.1111111111111111,
              "#46039f"
             ],
             [
              0.2222222222222222,
              "#7201a8"
             ],
             [
              0.3333333333333333,
              "#9c179e"
             ],
             [
              0.4444444444444444,
              "#bd3786"
             ],
             [
              0.5555555555555556,
              "#d8576b"
             ],
             [
              0.6666666666666666,
              "#ed7953"
             ],
             [
              0.7777777777777778,
              "#fb9f3a"
             ],
             [
              0.8888888888888888,
              "#fdca26"
             ],
             [
              1,
              "#f0f921"
             ]
            ],
            "type": "histogram2dcontour"
           }
          ],
          "mesh3d": [
           {
            "colorbar": {
             "outlinewidth": 0,
             "ticks": ""
            },
            "type": "mesh3d"
           }
          ],
          "parcoords": [
           {
            "line": {
             "colorbar": {
              "outlinewidth": 0,
              "ticks": ""
             }
            },
            "type": "parcoords"
           }
          ],
          "pie": [
           {
            "automargin": true,
            "type": "pie"
           }
          ],
          "scatter": [
           {
            "fillpattern": {
             "fillmode": "overlay",
             "size": 10,
             "solidity": 0.2
            },
            "type": "scatter"
           }
          ],
          "scatter3d": [
           {
            "line": {
             "colorbar": {
              "outlinewidth": 0,
              "ticks": ""
             }
            },
            "marker": {
             "colorbar": {
              "outlinewidth": 0,
              "ticks": ""
             }
            },
            "type": "scatter3d"
           }
          ],
          "scattercarpet": [
           {
            "marker": {
             "colorbar": {
              "outlinewidth": 0,
              "ticks": ""
             }
            },
            "type": "scattercarpet"
           }
          ],
          "scattergeo": [
           {
            "marker": {
             "colorbar": {
              "outlinewidth": 0,
              "ticks": ""
             }
            },
            "type": "scattergeo"
           }
          ],
          "scattergl": [
           {
            "marker": {
             "colorbar": {
              "outlinewidth": 0,
              "ticks": ""
             }
            },
            "type": "scattergl"
           }
          ],
          "scattermapbox": [
           {
            "marker": {
             "colorbar": {
              "outlinewidth": 0,
              "ticks": ""
             }
            },
            "type": "scattermapbox"
           }
          ],
          "scatterpolar": [
           {
            "marker": {
             "colorbar": {
              "outlinewidth": 0,
              "ticks": ""
             }
            },
            "type": "scatterpolar"
           }
          ],
          "scatterpolargl": [
           {
            "marker": {
             "colorbar": {
              "outlinewidth": 0,
              "ticks": ""
             }
            },
            "type": "scatterpolargl"
           }
          ],
          "scatterternary": [
           {
            "marker": {
             "colorbar": {
              "outlinewidth": 0,
              "ticks": ""
             }
            },
            "type": "scatterternary"
           }
          ],
          "surface": [
           {
            "colorbar": {
             "outlinewidth": 0,
             "ticks": ""
            },
            "colorscale": [
             [
              0,
              "#0d0887"
             ],
             [
              0.1111111111111111,
              "#46039f"
             ],
             [
              0.2222222222222222,
              "#7201a8"
             ],
             [
              0.3333333333333333,
              "#9c179e"
             ],
             [
              0.4444444444444444,
              "#bd3786"
             ],
             [
              0.5555555555555556,
              "#d8576b"
             ],
             [
              0.6666666666666666,
              "#ed7953"
             ],
             [
              0.7777777777777778,
              "#fb9f3a"
             ],
             [
              0.8888888888888888,
              "#fdca26"
             ],
             [
              1,
              "#f0f921"
             ]
            ],
            "type": "surface"
           }
          ],
          "table": [
           {
            "cells": {
             "fill": {
              "color": "#EBF0F8"
             },
             "line": {
              "color": "white"
             }
            },
            "header": {
             "fill": {
              "color": "#C8D4E3"
             },
             "line": {
              "color": "white"
             }
            },
            "type": "table"
           }
          ]
         },
         "layout": {
          "annotationdefaults": {
           "arrowcolor": "#2a3f5f",
           "arrowhead": 0,
           "arrowwidth": 1
          },
          "autotypenumbers": "strict",
          "coloraxis": {
           "colorbar": {
            "outlinewidth": 0,
            "ticks": ""
           }
          },
          "colorscale": {
           "diverging": [
            [
             0,
             "#8e0152"
            ],
            [
             0.1,
             "#c51b7d"
            ],
            [
             0.2,
             "#de77ae"
            ],
            [
             0.3,
             "#f1b6da"
            ],
            [
             0.4,
             "#fde0ef"
            ],
            [
             0.5,
             "#f7f7f7"
            ],
            [
             0.6,
             "#e6f5d0"
            ],
            [
             0.7,
             "#b8e186"
            ],
            [
             0.8,
             "#7fbc41"
            ],
            [
             0.9,
             "#4d9221"
            ],
            [
             1,
             "#276419"
            ]
           ],
           "sequential": [
            [
             0,
             "#0d0887"
            ],
            [
             0.1111111111111111,
             "#46039f"
            ],
            [
             0.2222222222222222,
             "#7201a8"
            ],
            [
             0.3333333333333333,
             "#9c179e"
            ],
            [
             0.4444444444444444,
             "#bd3786"
            ],
            [
             0.5555555555555556,
             "#d8576b"
            ],
            [
             0.6666666666666666,
             "#ed7953"
            ],
            [
             0.7777777777777778,
             "#fb9f3a"
            ],
            [
             0.8888888888888888,
             "#fdca26"
            ],
            [
             1,
             "#f0f921"
            ]
           ],
           "sequentialminus": [
            [
             0,
             "#0d0887"
            ],
            [
             0.1111111111111111,
             "#46039f"
            ],
            [
             0.2222222222222222,
             "#7201a8"
            ],
            [
             0.3333333333333333,
             "#9c179e"
            ],
            [
             0.4444444444444444,
             "#bd3786"
            ],
            [
             0.5555555555555556,
             "#d8576b"
            ],
            [
             0.6666666666666666,
             "#ed7953"
            ],
            [
             0.7777777777777778,
             "#fb9f3a"
            ],
            [
             0.8888888888888888,
             "#fdca26"
            ],
            [
             1,
             "#f0f921"
            ]
           ]
          },
          "colorway": [
           "#636efa",
           "#EF553B",
           "#00cc96",
           "#ab63fa",
           "#FFA15A",
           "#19d3f3",
           "#FF6692",
           "#B6E880",
           "#FF97FF",
           "#FECB52"
          ],
          "font": {
           "color": "#2a3f5f"
          },
          "geo": {
           "bgcolor": "white",
           "lakecolor": "white",
           "landcolor": "#E5ECF6",
           "showlakes": true,
           "showland": true,
           "subunitcolor": "white"
          },
          "hoverlabel": {
           "align": "left"
          },
          "hovermode": "closest",
          "mapbox": {
           "style": "light"
          },
          "paper_bgcolor": "white",
          "plot_bgcolor": "#E5ECF6",
          "polar": {
           "angularaxis": {
            "gridcolor": "white",
            "linecolor": "white",
            "ticks": ""
           },
           "bgcolor": "#E5ECF6",
           "radialaxis": {
            "gridcolor": "white",
            "linecolor": "white",
            "ticks": ""
           }
          },
          "scene": {
           "xaxis": {
            "backgroundcolor": "#E5ECF6",
            "gridcolor": "white",
            "gridwidth": 2,
            "linecolor": "white",
            "showbackground": true,
            "ticks": "",
            "zerolinecolor": "white"
           },
           "yaxis": {
            "backgroundcolor": "#E5ECF6",
            "gridcolor": "white",
            "gridwidth": 2,
            "linecolor": "white",
            "showbackground": true,
            "ticks": "",
            "zerolinecolor": "white"
           },
           "zaxis": {
            "backgroundcolor": "#E5ECF6",
            "gridcolor": "white",
            "gridwidth": 2,
            "linecolor": "white",
            "showbackground": true,
            "ticks": "",
            "zerolinecolor": "white"
           }
          },
          "shapedefaults": {
           "line": {
            "color": "#2a3f5f"
           }
          },
          "ternary": {
           "aaxis": {
            "gridcolor": "white",
            "linecolor": "white",
            "ticks": ""
           },
           "baxis": {
            "gridcolor": "white",
            "linecolor": "white",
            "ticks": ""
           },
           "bgcolor": "#E5ECF6",
           "caxis": {
            "gridcolor": "white",
            "linecolor": "white",
            "ticks": ""
           }
          },
          "title": {
           "x": 0.05
          },
          "xaxis": {
           "automargin": true,
           "gridcolor": "white",
           "linecolor": "white",
           "ticks": "",
           "title": {
            "standoff": 15
           },
           "zerolinecolor": "white",
           "zerolinewidth": 2
          },
          "yaxis": {
           "automargin": true,
           "gridcolor": "white",
           "linecolor": "white",
           "ticks": "",
           "title": {
            "standoff": 15
           },
           "zerolinecolor": "white",
           "zerolinewidth": 2
          }
         }
        },
        "title": {
         "text": "Top 10 cities by sold properties number",
         "x": 0.5
        },
        "xaxis": {
         "anchor": "y",
         "domain": [
          0,
          1
         ],
         "title": {
          "text": "region"
         }
        },
        "yaxis": {
         "anchor": "x",
         "domain": [
          0,
          1
         ],
         "title": {
          "text": "prop sold count"
         }
        }
       }
      }
     },
     "metadata": {},
     "output_type": "display_data"
    }
   ],
   "source": [
    "fig1 = px.bar(area_city_sales , x =\"region\" , y = \"sales amount\" , color= \"city\", barmode=\"group\" , title= \"Top 10 cities by sales value\")\n",
    "fig1.update_layout(title_x = 0.5)\n",
    "fig2 = px.bar(area_city_sales , x =\"region\" , y = \"prop sold count\" , color= \"city\", barmode=\"group\", title=\"Top 10 cities by sold properties number\")\n",
    "fig2.update_layout(title_x = 0.5)\n",
    "display(fig1)\n",
    "display(fig2)"
   ]
  },
  {
   "cell_type": "code",
   "execution_count": null,
   "metadata": {},
   "outputs": [],
   "source": []
  }
 ],
 "metadata": {
  "kernelspec": {
   "display_name": "base",
   "language": "python",
   "name": "python3"
  },
  "language_info": {
   "codemirror_mode": {
    "name": "ipython",
    "version": 3
   },
   "file_extension": ".py",
   "mimetype": "text/x-python",
   "name": "python",
   "nbconvert_exporter": "python",
   "pygments_lexer": "ipython3",
   "version": "3.12.4"
  }
 },
 "nbformat": 4,
 "nbformat_minor": 2
}
